{
 "cells": [
  {
   "cell_type": "markdown",
   "id": "cc792c24",
   "metadata": {},
   "source": [
    "# Chapter 4: Charge Transfer Kinetics"
   ]
  },
  {
   "cell_type": "markdown",
   "id": "f9b90878",
   "metadata": {},
   "source": [
    "Let's consider the charge-transfer reaction at the PEMFC anode:\n",
    "\n",
    "$${\\rm H_{Pt(s)}  \\leftrightharpoons H^+_{elyte} + e^-_{Pt}}$$\n",
    "\n",
    "Calculate current as a function of overpotential at 50$^\\circ$ C, using the Butler-Volmer approximation and assuming a constant exchange current density of $i_\\circ = 2.15$ A/cm$^2$. Assume a symmetry factor of 0.5."
   ]
  },
  {
   "cell_type": "code",
   "execution_count": null,
   "id": "24d7cc91",
   "metadata": {},
   "outputs": [],
   "source": [
    "import numpy as np\n",
    "from math import exp\n",
    "import matplotlib.pyplot as plt\n",
    "%matplotlib inline\n",
    "\n",
    "etas = np.concatenate([np.geomspace(-.25, -1e-3, 50), np.geomspace(1e-3, .25, 50)])\n",
    "currents = np.zeros_like(etas)\n",
    "\n",
    "# Constants:\n",
    "R = 8.3145 # J/mol-K\n",
    "F = 96485  # C per mol e-\n",
    "\n",
    "# Inputs\n",
    "i_0 = 2.15 # Exchange current density, A/cm2\n",
    "n = 1      # Elementary charge transferred\n",
    "T = 298.15 # K\n",
    "alpha_f = 0.5\n",
    "\n",
    "\n",
    "for i, eta in enumerate(etas):\n",
    "    currents[i] = \n"
   ]
  },
  {
   "cell_type": "code",
   "execution_count": null,
   "id": "895f41d3",
   "metadata": {},
   "outputs": [],
   "source": [
    "plt.semilogy(etas, abs(currents), 'ro')\n",
    "plt.ylabel('Current (A/cm$^2$)', fontsize=16)\n",
    "plt.xlabel('Overpotential (V)', fontsize=16)"
   ]
  },
  {
   "cell_type": "code",
   "execution_count": null,
   "id": "5f76ee5b",
   "metadata": {},
   "outputs": [],
   "source": []
  }
 ],
 "metadata": {
  "kernelspec": {
   "display_name": "Python 3",
   "language": "python",
   "name": "python3"
  },
  "language_info": {
   "codemirror_mode": {
    "name": "ipython",
    "version": 3
   },
   "file_extension": ".py",
   "mimetype": "text/x-python",
   "name": "python",
   "nbconvert_exporter": "python",
   "pygments_lexer": "ipython3",
   "version": "3.6.13"
  }
 },
 "nbformat": 4,
 "nbformat_minor": 5
}
